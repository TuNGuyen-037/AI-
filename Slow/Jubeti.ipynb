{
 "cells": [
  {
   "cell_type": "markdown",
   "metadata": {},
   "source": [
    "## Phân tích mô tả và cấu trúc"
   ]
  },
  {
   "cell_type": "code",
   "execution_count": 1,
   "metadata": {},
   "outputs": [],
   "source": [
    "import numpy as np\n",
    "import pandas as pd"
   ]
  },
  {
   "cell_type": "markdown",
   "metadata": {},
   "source": [
    "5.1. Biết dữ liệu có gì ?"
   ]
  },
  {
   "cell_type": "code",
   "execution_count": 2,
   "metadata": {},
   "outputs": [],
   "source": [
    "stress=pd.read_csv('stress_detection.csv')"
   ]
  },
  {
   "cell_type": "code",
   "execution_count": 4,
   "metadata": {},
   "outputs": [
    {
     "name": "stdout",
     "output_type": "stream",
     "text": [
      "      participant_id  day  PSS_score  Openness  Conscientiousness  \\\n",
      "2995             100   26         30  2.529821           2.339608   \n",
      "2996             100   27         33  1.319100           4.500507   \n",
      "2997             100   28         30  1.899102           3.930147   \n",
      "2998             100   29         28  1.472408           1.712893   \n",
      "2999             100   30         10  3.152789           3.633976   \n",
      "\n",
      "      Extraversion  Agreeableness  Neuroticism  sleep_time  wake_time  \\\n",
      "2995      1.321208       4.204331     4.890738    8.823033   8.703758   \n",
      "2996      4.816983       2.416180     4.195933    5.260243   5.890244   \n",
      "2997      4.047799       3.163160     2.559401    6.425568   7.978066   \n",
      "2998      1.245082       4.187222     4.558563    5.453843   8.859173   \n",
      "2999      2.387994       3.853524     1.147076    5.270021   6.658582   \n",
      "\n",
      "      sleep_duration  PSQI_score  call_duration  num_calls  num_sms  \\\n",
      "2995        8.661936           2      59.106125          0        1   \n",
      "2996        6.456058           4      56.137068         12       17   \n",
      "2997        7.188921           3      58.102473         13       21   \n",
      "2998        7.355107           4      44.220070         17       10   \n",
      "2999        7.090551           4      36.342934         16       47   \n",
      "\n",
      "      screen_on_time  skin_conductance  accelerometer  mobility_radius  \\\n",
      "2995       11.339248          4.045863       1.694037         0.859401   \n",
      "2996       10.694380          2.169768       1.657737         0.108480   \n",
      "2997        8.646478          4.995654       1.046666         0.508623   \n",
      "2998        4.086836          4.897873       1.605314         0.444716   \n",
      "2999        7.399881          3.279636       2.130984         1.347205   \n",
      "\n",
      "      mobility_distance  \n",
      "2995           4.123621  \n",
      "2996           2.242326  \n",
      "2997           2.088313  \n",
      "2998           4.741065  \n",
      "2999           4.191338  \n"
     ]
    }
   ],
   "source": [
    "print(stress.tail(5))"
   ]
  },
  {
   "cell_type": "code",
   "execution_count": 5,
   "metadata": {},
   "outputs": [
    {
     "name": "stdout",
     "output_type": "stream",
     "text": [
      "(3000, 20)\n"
     ]
    }
   ],
   "source": [
    "print(stress.shape)"
   ]
  },
  {
   "cell_type": "markdown",
   "metadata": {},
   "source": [
    "Dữ liệu này gồm 3000 bản ghi và 20 đặc trưng"
   ]
  },
  {
   "cell_type": "code",
   "execution_count": 6,
   "metadata": {},
   "outputs": [
    {
     "name": "stdout",
     "output_type": "stream",
     "text": [
      "['participant_id', 'day', 'PSS_score', 'Openness', 'Conscientiousness', 'Extraversion', 'Agreeableness', 'Neuroticism', 'sleep_time', 'wake_time', 'sleep_duration', 'PSQI_score', 'call_duration', 'num_calls', 'num_sms', 'screen_on_time', 'skin_conductance', 'accelerometer', 'mobility_radius', 'mobility_distance']\n"
     ]
    }
   ],
   "source": [
    "print(list(stress.columns))"
   ]
  },
  {
   "cell_type": "markdown",
   "metadata": {},
   "source": [
    "- participant_id          : Mã định danh người tham gia  \n",
    "- day                     : Ngày tham gia\n",
    "- PSS_score               : Thang đo căng thẳng nhận thức\n",
    "- Openness                : Thước đo sự cởi mở, đặc điểm về tính cách\n",
    "- Conscientiousness       : Thước đo sự tận tâm, một đặc điểm tính cách\n",
    "- Extraversion            : Thước đo về sự hướng ngoại, một đặc điểm tính cách\n",
    "- Agreeableness           : Thước đo về sự dễ chịu, một đặc điểm tính cách\n",
    "- Neuroticism             : Thước đo về sự rối loạn thần kinh, một đặc điểm tính cách\n",
    "- sleep_time              : Thời gian người tham gia bắt đầu đi ngủ (tính bằng giờ)\n",
    "- wake_time               : Thời gian người tham gia bắt đầu thức dậy (tính bằng giờ)\n",
    "- sleep_duration          : Thời lượng giờ người tham gia đi ngủ (tính bằng giờ)\n",
    "- PSQI_score              : Điểm chỉ số chất lượng giấc ngủ\n",
    "- call_duration           : Tổng thời lượng giấc ngủ trong ngày (tính bằng phút)\n",
    "- num_calls               : Số cuộc gọi được thực hiện trong ngày \n",
    "- num_sms                 : Số cuộc gọi tin nhắn SMS trong ngày\n",
    "- screen_on_time          : Tổng thời gian bật màn hình (tính bằng giờ)\n",
    "- skin_conductance        : Đo độ dẫn của da, cho thấy phản ứng kích thích hoặc căng thẳng\n",
    "- accelerometer           : Dữ liệu gia tốc kế, đại diện cho chuyển động vật lý (tính bằng g-force)\n",
    "- mobility_radius         : Bán kính di chuyển của người tham gia (tính bằng km)\n",
    "- mobility_distance       : Tổng quãng đường di chuyển trong ngày(tính bằng km)"
   ]
  },
  {
   "cell_type": "code",
   "execution_count": 7,
   "metadata": {},
   "outputs": [
    {
     "name": "stdout",
     "output_type": "stream",
     "text": [
      "participant_id         int64\n",
      "day                    int64\n",
      "PSS_score              int64\n",
      "Openness             float64\n",
      "Conscientiousness    float64\n",
      "Extraversion         float64\n",
      "Agreeableness        float64\n",
      "Neuroticism          float64\n",
      "sleep_time           float64\n",
      "wake_time            float64\n",
      "sleep_duration       float64\n",
      "PSQI_score             int64\n",
      "call_duration        float64\n",
      "num_calls              int64\n",
      "num_sms                int64\n",
      "screen_on_time       float64\n",
      "skin_conductance     float64\n",
      "accelerometer        float64\n",
      "mobility_radius      float64\n",
      "mobility_distance    float64\n",
      "dtype: object\n"
     ]
    }
   ],
   "source": [
    "print(stress.dtypes)"
   ]
  }
 ],
 "metadata": {
  "kernelspec": {
   "display_name": "Python 3",
   "language": "python",
   "name": "python3"
  },
  "language_info": {
   "codemirror_mode": {
    "name": "ipython",
    "version": 3
   },
   "file_extension": ".py",
   "mimetype": "text/x-python",
   "name": "python",
   "nbconvert_exporter": "python",
   "pygments_lexer": "ipython3",
   "version": "3.12.4"
  }
 },
 "nbformat": 4,
 "nbformat_minor": 2
}
