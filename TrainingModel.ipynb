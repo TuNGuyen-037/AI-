{
 "cells": [
  {
   "cell_type": "code",
   "execution_count": 1,
   "metadata": {},
   "outputs": [],
   "source": [
    "import os\n",
    "import playsound\n",
    "import speech_recognition as sr\n",
    "import time\n",
    "import sys\n",
    "import ctypes\n",
    "import wikipedia\n",
    "import datetime\n",
    "import json\n",
    "import re\n",
    "import webbrowser\n",
    "import smtplib\n",
    "import requests\n",
    "import urllib\n",
    "import urllib.request as urllib2\n",
    "from selenium import webdriver\n",
    "from selenium.webdriver.common.keys import Keys\n",
    "from webdriver_manager.chrome import ChromeDriverManager\n",
    "from time import strftime\n",
    "from gtts import gTTS\n",
    "from youtube_search import YoutubeSearch"
   ]
  },
  {
   "cell_type": "code",
   "execution_count": 2,
   "metadata": {},
   "outputs": [],
   "source": [
    "language = 'vi'\n",
    "path = ChromeDriverManager().install()\n",
    "wikipedia.set_lang('vi')"
   ]
  },
  {
   "cell_type": "code",
   "execution_count": 3,
   "metadata": {},
   "outputs": [
    {
     "name": "stdout",
     "output_type": "stream",
     "text": [
      "Bot: Bạn khỏe không ?\n"
     ]
    }
   ],
   "source": [
    "# Phương thức nói chuyện\n",
    "def speak(text):\n",
    "    print(\"Bot: {}\".format(text))\n",
    "    #truyen vao text de doc len\n",
    "    tts = gTTS(text=text, lang=language, slow = False)\n",
    "    tts.save(\"sound.mp3\")\n",
    "    playsound.playsound(\"sound.mp3\", False)\n",
    "    os.remove(\"sound.mp3\")\n",
    "# Test\n",
    "speak('Bạn khỏe không ?')\n",
    "def stop():\n",
    "    speak(\"Hẹn gặp lại bạn nhé!\")"
   ]
  },
  {
   "cell_type": "code",
   "execution_count": null,
   "metadata": {},
   "outputs": [
    {
     "name": "stdout",
     "output_type": "stream",
     "text": [
      "Me: alo alo nghe rõ tôi không nghe đi\n"
     ]
    },
    {
     "data": {
      "text/plain": [
       "'alo alo nghe rõ tôi không nghe đi'"
      ]
     },
     "execution_count": 6,
     "metadata": {},
     "output_type": "execute_result"
    }
   ],
   "source": [
    "def get_voice():\n",
    "     r = sr.Recognizer()\n",
    "     with sr.Microphone() as source:\n",
    "        print(\"Me: \", end = '')\n",
    "        audio = r.listen(source, phrase_time_limit=5)\n",
    "        try:\n",
    "            text = r.recognize_google(audio, language=\"vi-VN\")\n",
    "            print(text)\n",
    "            return text\n",
    "        except:\n",
    "            print(\"...\")\n",
    "            return 0\n",
    "get_voice()"
   ]
  },
  {
   "cell_type": "code",
   "execution_count": null,
   "metadata": {},
   "outputs": [
    {
     "name": "stdout",
     "output_type": "stream",
     "text": [
      "Me: nói gì không nó không giống hàm trên nó chỉ là nó test lại thôi\n"
     ]
    },
    {
     "data": {
      "text/plain": [
       "'nói gì không nó không giống hàm trên nó chỉ là nó test lại thôi'"
      ]
     },
     "execution_count": 7,
     "metadata": {},
     "output_type": "execute_result"
    }
   ],
   "source": [
    "def get_text():\n",
    "    for i in range(3):\n",
    "        text = get_voice()\n",
    "        if text:\n",
    "            return text.lower()\n",
    "        elif i < 2:\n",
    "            speak(\"Bot không nghe rõ, bạn có thể nói lại không ?\")\n",
    "    time.sleep(10)\n",
    "    stop()\n",
    "    return 0\n",
    "get_text()    "
   ]
  },
  {
   "cell_type": "code",
   "execution_count": null,
   "metadata": {},
   "outputs": [
    {
     "name": "stdout",
     "output_type": "stream",
     "text": [
      "Bot: Chào buổi chiều Tú!\n",
      "Bot: Bạn có khỏe không ?\n",
      "Me: yếu\n",
      "Bot: Vậy à, bạn nên nghỉ ngơi đi!\n"
     ]
    }
   ],
   "source": [
    "def talk(name):\n",
    "    day_time = int(strftime('%H'))\n",
    "    if day_time < 12:\n",
    "        speak(\"Chào buổi sáng {}. Chúc bạn ngày mới tốt lành!\".format(name))\n",
    "    elif day_time < 18:\n",
    "        speak(\"Chào buổi chiều {}!\".format(name))\n",
    "    else:\n",
    "        speak(\"Chào buổi tối {}!\".format(name))\n",
    "    time.sleep(5)\n",
    "    speak(\"Bạn có khỏe không ?\")\n",
    "    time.sleep(3)\n",
    "    ans = get_voice()\n",
    "    if ans:\n",
    "        if \"có\" in ans:\n",
    "            speak(\"Thật là tốt!\")\n",
    "        else:\n",
    "            speak(\"Vậy à, bạn nên nghỉ ngơi đi!\")\n",
    "# test\n",
    "talk('Tú')"
   ]
  },
  {
   "cell_type": "code",
   "execution_count": null,
   "metadata": {},
   "outputs": [
    {
     "name": "stdout",
     "output_type": "stream",
     "text": [
      "Bot: Trang web của bạn đã được mở lên!\n"
     ]
    },
    {
     "data": {
      "text/plain": [
       "True"
      ]
     },
     "execution_count": 10,
     "metadata": {},
     "output_type": "execute_result"
    }
   ],
   "source": [
    "def open_website(text):\n",
    "    regex = re.search ('mở (.+)', text)\n",
    "    if regex:\n",
    "        domain = regex.group(1)\n",
    "        url = 'https://www.' + domain +'.com'\n",
    "        webbrowser.open(url)\n",
    "        speak(\"Trang web của bạn đã được mở lên!\")\n",
    "        return True\n",
    "    else:\n",
    "        return False\n",
    "# test\n",
    "open_website('mở youtube')\n",
    "    "
   ]
  },
  {
   "cell_type": "code",
   "execution_count": null,
   "metadata": {},
   "outputs": [],
   "source": [
    "def get_time(text):\n",
    "    now = datetime.datetime.now()\n",
    "    if \"mấy giờ\" in text:\n",
    "        speak(\"Bây giờ là %d giờ %d phút\" % (now.hour, now.minute))\n",
    "    elif \"ngày\" in text:\n",
    "        speak(\"Hôm nay là ngày %d tháng %d năm %d \" % (now.day, now.month, now.year))\n",
    "    else:\n",
    "        speak(\"Bot không hiểu\")\n",
    "# test\n",
    "get_time(\"mấy giờ rồi nhỉ ?\")"
   ]
  },
  {
   "cell_type": "code",
   "execution_count": null,
   "metadata": {},
   "outputs": [
    {
     "ename": "NameError",
     "evalue": "name 'speak' is not defined",
     "output_type": "error",
     "traceback": [
      "\u001b[1;31m---------------------------------------------------------------------------\u001b[0m",
      "\u001b[1;31mNameError\u001b[0m                                 Traceback (most recent call last)",
      "Cell \u001b[1;32mIn[1], line 13\u001b[0m\n\u001b[0;32m     11\u001b[0m     speak(\u001b[38;5;124m\"\u001b[39m\u001b[38;5;124mBài hát của bạn đã được mở, hãy thưởng thức nó!\u001b[39m\u001b[38;5;124m\"\u001b[39m)\n\u001b[0;32m     12\u001b[0m \u001b[38;5;66;03m# test\u001b[39;00m\n\u001b[1;32m---> 13\u001b[0m \u001b[43mplay_youtube\u001b[49m\u001b[43m(\u001b[49m\u001b[43m)\u001b[49m\n",
      "Cell \u001b[1;32mIn[1], line 2\u001b[0m, in \u001b[0;36mplay_youtube\u001b[1;34m()\u001b[0m\n\u001b[0;32m      1\u001b[0m \u001b[38;5;28;01mdef\u001b[39;00m \u001b[38;5;21mplay_youtube\u001b[39m():\n\u001b[1;32m----> 2\u001b[0m     \u001b[43mspeak\u001b[49m(\u001b[38;5;124m\"\u001b[39m\u001b[38;5;124mXin mời bạn chọn bài hát\u001b[39m\u001b[38;5;124m\"\u001b[39m)\n\u001b[0;32m      3\u001b[0m     time\u001b[38;5;241m.\u001b[39msleep(\u001b[38;5;241m3\u001b[39m)\n\u001b[0;32m      4\u001b[0m     my_song \u001b[38;5;241m=\u001b[39m get_text()\n",
      "\u001b[1;31mNameError\u001b[0m: name 'speak' is not defined"
     ]
    }
   ],
   "source": [
    "def play_youtube():\n",
    "    speak(\"Xin mời bạn chọn bài hát\")\n",
    "    time.sleep(3)\n",
    "    my_song = get_text()\n",
    "    while True:\n",
    "        result = YoutubeSearch(my_song, max_results = 10).to_dict()\n",
    "        if result:\n",
    "            break;\n",
    "    url = 'https://www.youtube.com' + result[0]['url_suffix']\n",
    "    webbrowser.open(url)\n",
    "    speak(\"Bài hát của bạn đã được mở, hãy thưởng thức nó!\")\n",
    "# test\n",
    "play_youtube()"
   ]
  },
  {
   "cell_type": "code",
   "execution_count": null,
   "metadata": {},
   "outputs": [],
   "source": [
    "def weather():\n",
    "    speak(\"Bạn muốn xem thời tiết ở đâu ạ!\")\n",
    "    time.sleep(3)\n",
    "    url = \"http://api.openweathermap.org/data/2.5/weather?\"\n",
    "    city = get_text()\n",
    "    if not city:\n",
    "        pass\n",
    "    api_key = \"fe8d8c65cf345889139d8e545f57819a\"\n",
    "    call_url = url + \"appid=\" + api_key + \"&q=\" + city + \"&units=metric\"\n",
    "    response = requests.get(call_url)\n",
    "    data = response.json()\n",
    "    if data[\"cod\"] != \"404\":\n",
    "        city_res = data[\"main\"]\n",
    "        current_temp = city_res[\"temp\"]\n",
    "        current_pressure = city_res[\"pressure\"]\n",
    "        current_humidity = city_res[\"humidity\"]\n",
    "        sun_time  = data[\"sys\"]\n",
    "        sun_rise = datetime.datetime.fromtimestamp(sun_time[\"sunrise\"])\n",
    "        sun_set = datetime.datetime.fromtimestamp(sun_time[\"sunset\"])\n",
    "        wther = data[\"weather\"]\n",
    "        weather_des = wther[0][\"description\"]\n",
    "        now = datetime.datetime.now()\n",
    "        content = \"\"\"\n",
    "        Hôm nay là ngày {day} tháng {month} năm {year}\n",
    "        Mặt trời mọc vào {hourrise} giờ {minrise} phút\n",
    "        Mặt trời lặn vào {hourset} giờ {minset} phút\n",
    "        Nhiệt độ trung bình là {temp} độ C\n",
    "        Áp suất không khí là {pressure} héc tơ Pascal\n",
    "        Độ ẩm là {humidity}%\n",
    "        Trời hôm nay quang mây. Dự báo mưa rải rác ở một số nơi.\"\"\".format(day = now.day, month = now.month, year= now.year, hourrise = sun_rise.hour, minrise = sun_rise.minute,\n",
    "                                                                           hourset = sun_set.hour, minset = sun_set.minute, \n",
    "                                                                           temp = current_temp, pressure = current_pressure, humidity = current_humidity)\n",
    "        speak(content)\n",
    "        time.sleep(25)\n",
    "    else:\n",
    "        speak(\"Không tìm thấy thành phố!\")\n",
    "\n",
    "# test\n",
    "weather()"
   ]
  },
  {
   "cell_type": "code",
   "execution_count": null,
   "metadata": {},
   "outputs": [
    {
     "name": "stderr",
     "output_type": "stream",
     "text": [
      "<>:7: SyntaxWarning: invalid escape sequence '\\P'\n",
      "<>:10: SyntaxWarning: invalid escape sequence '\\P'\n",
      "<>:13: SyntaxWarning: invalid escape sequence '\\P'\n",
      "<>:16: SyntaxWarning: invalid escape sequence '\\P'\n",
      "<>:7: SyntaxWarning: invalid escape sequence '\\P'\n",
      "<>:10: SyntaxWarning: invalid escape sequence '\\P'\n",
      "<>:13: SyntaxWarning: invalid escape sequence '\\P'\n",
      "<>:16: SyntaxWarning: invalid escape sequence '\\P'\n",
      "C:\\Users\\vanho\\AppData\\Local\\Temp\\ipykernel_18120\\3233673221.py:7: SyntaxWarning: invalid escape sequence '\\P'\n",
      "  os.startfile('C:\\Program Files (x86)\\Google\\Chrome\\Application\\chrome.exe')\n",
      "C:\\Users\\vanho\\AppData\\Local\\Temp\\ipykernel_18120\\3233673221.py:10: SyntaxWarning: invalid escape sequence '\\P'\n",
      "  os.startfile(\"C:\\Program Files\\Microsoft Office\\Office15\\WINWORD.EXE\")\n",
      "C:\\Users\\vanho\\AppData\\Local\\Temp\\ipykernel_18120\\3233673221.py:13: SyntaxWarning: invalid escape sequence '\\P'\n",
      "  os.startfile(\"C:\\Program Files\\Microsoft Office\\Office15\\POWERPNT.EXE\")\n",
      "C:\\Users\\vanho\\AppData\\Local\\Temp\\ipykernel_18120\\3233673221.py:16: SyntaxWarning: invalid escape sequence '\\P'\n",
      "  os.startfile(\"C:\\Program Files\\Microsoft Office\\Office15\\EXCEL.EXE\")\n"
     ]
    },
    {
     "name": "stdout",
     "output_type": "stream",
     "text": [
      "Bot: Bạn muốn mở ứng dụng nào\n",
      "Me: Mở YouTube\n",
      "Bot: Phần mềm của bạn chưa được cài đặt!\n"
     ]
    }
   ],
   "source": [
    "def open_application():\n",
    "    speak(\"Bạn muốn mở ứng dụng nào\")\n",
    "    time.sleep(3)\n",
    "    text = get_text()\n",
    "    if \"google\" in text:\n",
    "        speak(\"Mở google chrome\")\n",
    "        os.startfile('C:\\Program Files\\Google\\Chrome\\Application\\chrome.exe')\n",
    "    elif \"word\" in text:\n",
    "        speak(\"Mở Microsoft Word\")\n",
    "        os.startfile(\"C:\\Program Files (x86)\\Microsoft\\Office15\\WINWORD.EXE\")\n",
    "    elif \"excel\" in text:\n",
    "        speak(\"Mở Microsoft Excel\")\n",
    "        os.startfile(\"C:\\Program Files\\Microsoft Office\\Office15\\POWERPNT.EXE\")\n",
    "    elif \"powerpoint\" in text:\n",
    "        speak(\"Mở Microsoft PowerPoint\")\n",
    "        os.startfile(\"C:\\Program Files\\Microsoft Office\\Office15\\EXCEL.EXE\")\n",
    "    else:\n",
    "        speak(\"Phần mềm của bạn chưa được cài đặt!\")\n",
    "# test\n",
    "open_application()"
   ]
  },
  {
   "cell_type": "code",
   "execution_count": null,
   "metadata": {},
   "outputs": [],
   "source": [
    "def chang_wallpaper():\n",
    "    api_key = 'RF3LyUUIyogjCpQwlf-zjzCf1JdvRwb--SLV6iCzOxw'\n",
    "    url = 'https://api.unsplash.com/photos/random?client_id=' + api_key  # pic from unspalsh.com\n",
    "    f = urllib2.urlopen(url)\n",
    "    json_string = f.read()\n",
    "    f.close()\n",
    "    parsed_json = json.loads(json_string)\n",
    "    photo = parsed_json['urls']['full']\n",
    "    \n",
    "    urllib2.urlretrieve(photo, r\"C:\\Users\\thanh\\Downloads\\image.png\")\n",
    "    image = os.path.join(r\"C:\\Users\\thanh\\Downloads\\image.png\")\n",
    "    ctypes.windll.user32.SystemParametersInfoW(20,0,image,3)\n",
    "    speak(\"Hình nền máy tính vừa được thay đổi\")\n",
    "    time.sleep(2)\n",
    "chang_wallpaper()"
   ]
  },
  {
   "cell_type": "code",
   "execution_count": null,
   "metadata": {},
   "outputs": [],
   "source": [
    "def tell_me():\n",
    "    try:\n",
    "        speak(\"Bạn muốn nghe về gì ạ!\")\n",
    "        text = get_text()\n",
    "        contents = wikipedia.summary(text).split('\\n')  # Tách thành các đoạn văn nếu có\n",
    "\n",
    "        # Đọc hết toàn bộ nội dung trước\n",
    "        for conten in contents:\n",
    "            speak(conten)\n",
    "            time.sleep(5)  # Chờ một chút giữa các đoạn để người nghe không bị quá nhanh\n",
    "\n",
    "        # Sau khi đọc hết toàn bộ nội dung, hỏi người dùng có muốn nghe tiếp hay không\n",
    "        speak(\"Bạn muốn nghe tiếp hay không?\")\n",
    "        ans = get_text()\n",
    "        if \"không\" in ans:\n",
    "            speak(\"Cảm ơn bạn đã lắng nghe!\")\n",
    "        else:\n",
    "            speak(\"Cảm ơn bạn đã lắng nghe!\")\n",
    "\n",
    "    except wikipedia.exceptions.DisambiguationError as e:\n",
    "        speak(f\"Đây là một vấn đề phân loại. Có một số lựa chọn: {e.options}\")\n",
    "    \n",
    "    except wikipedia.exceptions.HTTPTimeoutError:\n",
    "        speak(\"Đã xảy ra lỗi khi kết nối đến Wikipedia.\")\n",
    "    \n",
    "    except Exception as e:\n",
    "        speak(f\"Đã xảy ra lỗi: {str(e)}\")\n",
    "\n",
    "tell_me()"
   ]
  },
  {
   "cell_type": "code",
   "execution_count": null,
   "metadata": {},
   "outputs": [],
   "source": [
    "def help():\n",
    "    speak(\"\"\"Tôi có thể làm những việc sau:\n",
    "    1. Chào hỏi\n",
    "    2. Hiển thị giờ\n",
    "    3. Mở website, application\n",
    "    4. Tìm kiếm trên Google\n",
    "    5. Gửi email\n",
    "    6. Dự báo thời tiết\n",
    "    7. Mở video nhạc\n",
    "    8. Thay đổi hình nền máy tính\n",
    "    9. Đọc báo hôm nay\n",
    "    10. Kể bạn biết về thế giới \"\"\")\n",
    "    time.sleep(20)\n",
    "    "
   ]
  },
  {
   "cell_type": "code",
   "execution_count": null,
   "metadata": {},
   "outputs": [],
   "source": [
    "def call_sen():\n",
    "    speak(\"Xin chào, bạn tên là gì nhỉ?\")\n",
    "    time.sleep(2)\n",
    "    name = get_text()\n",
    "    if name:\n",
    "        speak(\"Chào bạn {}\".format(name))\n",
    "        time.sleep(1)\n",
    "        speak(\"Bạn cần Sen giúp gì ạ!\")\n",
    "        time.sleep(2)\n",
    "        while True:\n",
    "            text = get_text()\n",
    "            if not text:\n",
    "                break\n",
    "            elif \"trò chuyện\" in text or \"nói chuyện\" in text:\n",
    "                talk(name)\n",
    "            elif \"dừng\" in text or \"thôi\" in text:\n",
    "                stop()\n",
    "                break\n",
    "            elif \"mở\" in text:\n",
    "                if \"mở google và tìm kiếm\" in text:\n",
    "                    google_search(text)\n",
    "                elif \".\" in text:\n",
    "                    open_website(text)\n",
    "                else:\n",
    "                    open_application(text)       \n",
    "            elif \"ngày\" in text  or \"giờ\" in text:\n",
    "                get_time(text)\n",
    "            elif \"chơi nhạc\" in text:\n",
    "                play_youtube()\n",
    "            elif \"thời tiết\" in text:\n",
    "                weather()\n",
    "            elif \"hình nền\" in text:\n",
    "                change_wallpaper()\n",
    "            elif \"định nghĩa\" in text:\n",
    "                tell_me()\n",
    "            elif \"có thể làm gì\" in text:\n",
    "                help()\n",
    "                \n",
    "                    "
   ]
  },
  {
   "cell_type": "code",
   "execution_count": null,
   "metadata": {},
   "outputs": [],
   "source": [
    "call_sen()"
   ]
  }
 ],
 "metadata": {
  "kernelspec": {
   "display_name": "Python 3",
   "language": "python",
   "name": "python3"
  },
  "language_info": {
   "codemirror_mode": {
    "name": "ipython",
    "version": 3
   },
   "file_extension": ".py",
   "mimetype": "text/x-python",
   "name": "python",
   "nbconvert_exporter": "python",
   "pygments_lexer": "ipython3",
   "version": "3.12.4"
  }
 },
 "nbformat": 4,
 "nbformat_minor": 2
}
